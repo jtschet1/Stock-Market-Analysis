{
 "cells": [
  {
   "cell_type": "markdown",
   "metadata": {},
   "source": [
    "Notes:\n",
    "On Fidelity, the annual Opening and Closing prices are calculated as follows:\\\n",
    "Opening: The price found in the open column of january\\\n",
    "Closing: The price found in the close column of december"
   ]
  },
  {
   "cell_type": "code",
   "execution_count": 1,
   "metadata": {},
   "outputs": [],
   "source": [
    "import pandas as pd\n",
    "import os"
   ]
  },
  {
   "cell_type": "code",
   "execution_count": 2,
   "metadata": {},
   "outputs": [],
   "source": [
    "#convert datetime column to an int year\n",
    "def convert_date_to_year(df):\n",
    "    df['Date'] = pd.to_datetime(df['Date'])\n",
    "    df['Year'] = df['Date'].dt.year\n",
    "    return df"
   ]
  },
  {
   "cell_type": "code",
   "execution_count": 3,
   "metadata": {},
   "outputs": [],
   "source": [
    "#convert Open, High, Low, Close, % Change, % Change vs Average, Volume to numeric. Adjust for commas\n",
    "def convert_numeric(df, col):\n",
    "    #print(col)\n",
    "    if df[col].dtype == 'object':\n",
    "        df[col] = pd.to_numeric(df[col].str.replace(',', ''), errors='coerce')\n",
    "    return df"
   ]
  },
  {
   "cell_type": "code",
   "execution_count": 4,
   "metadata": {},
   "outputs": [],
   "source": [
    "#convert all the columns\n",
    "def convert_all_numeric(df):\n",
    "    df = convert_numeric(df, 'Open')\n",
    "    df = convert_numeric(df, 'High')\n",
    "    df = convert_numeric(df, 'Low')\n",
    "    df = convert_numeric(df, 'Close')\n",
    "    df = convert_numeric(df, 'Volume')\n",
    "    return df"
   ]
  },
  {
   "cell_type": "code",
   "execution_count": 5,
   "metadata": {},
   "outputs": [],
   "source": [
    "#based on closing prices of each year, find the rolling CAGR of each year, for each amount of time\n",
    "def calculate_cagr(df):\n",
    "    df['5YRCAGR'] = ((df['Close'] / df['Close'].shift(5)) ** (1/5) - 1) * 100\n",
    "    df['10YRCAGR'] = ((df['Close'] / df['Close'].shift(10)) ** (1/10) - 1) * 100\n",
    "    df['15YRCAGR'] = ((df['Close'] / df['Close'].shift(15)) ** (1/15) - 1) * 100\n",
    "    df['20YRCAGR'] = ((df['Close'] / df['Close'].shift(20)) ** (1/20) - 1) * 100\n",
    "    df['25YRCAGR'] = ((df['Close'] / df['Close'].shift(25)) ** (1/25) - 1) * 100\n",
    "    df['30YRCAGR'] = ((df['Close'] / df['Close'].shift(30)) ** (1/30) - 1) * 100\n",
    "    return df"
   ]
  },
  {
   "cell_type": "code",
   "execution_count": 6,
   "metadata": {},
   "outputs": [],
   "source": [
    "#round the CAGR columns to 3 decimal places\n",
    "def round_cagr(df):\n",
    "    df['5YRCAGR'] = df['5YRCAGR'].round(3)\n",
    "    df['10YRCAGR'] = df['10YRCAGR'].round(3)\n",
    "    df['15YRCAGR'] = df['15YRCAGR'].round(3)\n",
    "    df['20YRCAGR'] = df['20YRCAGR'].round(3)\n",
    "    df['25YRCAGR'] = df['25YRCAGR'].round(3)\n",
    "    df['30YRCAGR'] = df['30YRCAGR'].round(3)\n",
    "    return df"
   ]
  },
  {
   "cell_type": "code",
   "execution_count": 7,
   "metadata": {},
   "outputs": [],
   "source": [
    "\n",
    "for filename in os.listdir('Historical_Data'):\n",
    "    if filename.endswith(\".csv\"):\n",
    "        #read historical stock market data\n",
    "        df = pd.read_csv('Historical_Data/' + filename)\n",
    "        \n",
    "        #cleaning up columns by renaming them and converting to proper data types\n",
    "        df = convert_date_to_year(df)\n",
    "        df = convert_all_numeric(df)\n",
    "        df = df.rename(columns={'% Change': '1YRCAGR'})\n",
    "        \n",
    "        #calculate the compound annual growth rates\n",
    "        df = calculate_cagr(df)\n",
    "        df = round_cagr(df)\n",
    "        \n",
    "        #keep only the year and CAGR columns, and save to CAGR directory\n",
    "        df = df[['Year', 'Open','Close','1YRCAGR', '5YRCAGR', '10YRCAGR', '15YRCAGR', '20YRCAGR', '25YRCAGR', '30YRCAGR']]\n",
    "        df.to_csv('CAGR/' + filename, index=False)"
   ]
  }
 ],
 "metadata": {
  "kernelspec": {
   "display_name": "Python 3",
   "language": "python",
   "name": "python3"
  },
  "language_info": {
   "codemirror_mode": {
    "name": "ipython",
    "version": 3
   },
   "file_extension": ".py",
   "mimetype": "text/x-python",
   "name": "python",
   "nbconvert_exporter": "python",
   "pygments_lexer": "ipython3",
   "version": "3.11.2"
  },
  "orig_nbformat": 4
 },
 "nbformat": 4,
 "nbformat_minor": 2
}
