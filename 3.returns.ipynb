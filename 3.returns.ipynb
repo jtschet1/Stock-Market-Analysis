{
 "cells": [
  {
   "cell_type": "code",
   "execution_count": 1,
   "metadata": {},
   "outputs": [],
   "source": [
    "import pandas as pd\n",
    "import os"
   ]
  },
  {
   "cell_type": "code",
   "execution_count": 8,
   "metadata": {},
   "outputs": [],
   "source": [
    "def is_bad_stock(stock, sp500):\n",
    "    if (stock.loc[stock['Year'] == 2023, '1YRCAGR'].values[0] < sp500.loc[sp500['Year'] == 2023, '1YRCAGR'].values[0] and\n",
    "        stock.loc[stock['Year'] == 2023, '5YRCAGR'].values[0] < sp500.loc[sp500['Year'] == 2023, '5YRCAGR'].values[0] and\n",
    "        stock.loc[stock['Year'] == 2023, '10YRCAGR'].values[0] < sp500.loc[sp500['Year'] == 2023, '10YRCAGR'].values[0] and\n",
    "        stock.loc[stock['Year'] == 2023, '15YRCAGR'].values[0] < sp500.loc[sp500['Year'] == 2023, '15YRCAGR'].values[0] and\n",
    "        stock.loc[stock['Year'] == 2023, '20YRCAGR'].values[0] < sp500.loc[sp500['Year'] == 2023, '20YRCAGR'].values[0] and\n",
    "        stock.loc[stock['Year'] == 2023, '25YRCAGR'].values[0] < sp500.loc[sp500['Year'] == 2023, '25YRCAGR'].values[0] and\n",
    "        stock.loc[stock['Year'] == 2023, '30YRCAGR'].values[0] < sp500.loc[sp500['Year'] == 2023, '30YRCAGR'].values[0]):\n",
    "        return True\n",
    "    else:\n",
    "        return False"
   ]
  },
  {
   "cell_type": "code",
   "execution_count": 9,
   "metadata": {},
   "outputs": [
    {
     "name": "stdout",
     "output_type": "stream",
     "text": [
      "74 bad stocks dict_keys(['AEG', 'AEP', 'AIG', 'BAC', 'BAX', 'BCS', 'BEN', 'BK', 'BMY', 'BP', 'C', 'CAG', 'CINF', 'CL', 'CNA', 'CNP', 'CPB', 'CVS', 'D', 'DIS', 'DTE', 'DUK', 'ED', 'EIX', 'EMR', 'ERIC', 'ETR', 'EXC', 'FITB', 'GIS', 'GLW', 'GOLD', 'GSK', 'HAL', 'HBAN', 'HPQ', 'HST', 'HWM_P', 'IFF', 'IP', 'K', 'KEY', 'KMB', 'KO', 'LNT', 'LUV', 'MMM', 'MOS', 'MRK', 'MTB', 'NEM', 'NTRS', 'PCG', 'PEG', 'PFE', 'PNC', 'PPL', 'RF', 'SLB', 'STT', 'T', 'TEF', 'TEVA', 'TFC', 'TRP', 'UL', 'USB', 'VOD', 'VZ', 'WFC', 'WPP', 'WY', 'XEL', 'XOM'])\n",
      "215 potential stocks dict_keys(['AAPL', 'ABT', 'ADBE', 'ADI', 'ADM', 'ADP', 'ADSK', 'AEM', 'AFL', 'AJG', 'AMAT', 'AMD', 'AMGN', 'AON', 'AOS', 'APA', 'APD', 'ATO', 'AVY', 'AXP', 'BA', 'BALL', 'BAM', 'BBVA', 'BBY', 'BCE', 'BDX', 'BF_B', 'BHP', 'BIO', 'BKR', 'BN', 'BRK_A', 'BRO', 'BTI', 'CAH', 'CAT', 'CCEP', 'CCK', 'CCL', 'CDNS', 'CHD', 'CI', 'CLX', 'CMCSA', 'CMI', 'CMS', 'COO', 'COP', 'COST', 'CP', 'CRH', 'CSL', 'CSX', 'CTAS', 'CVX', 'DE', 'DHR', 'DINO', 'DJI', 'DOV', 'EA', 'ECL', 'EFX', 'ENB', 'EOG', 'EQT', 'ES', 'ETN', 'EXPD', 'F', 'FAST', 'FCNCA', 'FDX', 'FI', 'FICO', 'FMC', 'GD', 'GE', 'GEN', 'GFI', 'GGG', 'GPC', 'GWW', 'HD', 'HEI', 'HES', 'HMC', 'HON', 'HRL', 'HSY', 'HUBB', 'HUM', 'IBM', 'IEX', 'IMO', 'INTC', 'IPG', 'ITW', 'J', 'JBHT', 'JCI', 'JKHY', 'JNJ', 'JPM', 'KLAC', 'KR', 'L', 'LEN', 'LH', 'LHX', 'LLY', 'LMT', 'LOW', 'LRCX', 'LSCC', 'MAS', 'MCD', 'MCO', 'MDT', 'MGA', 'MGM', 'MKC', 'MKL', 'MMC', 'MNST', 'MO', 'MRO', 'MS', 'MSFT', 'MU', 'MUFG', 'NDSN', 'NDX', 'NEE', 'NI', 'NKE', 'NOC', 'NSC', 'NUE', 'NVO', 'NVR', 'OKE', 'OMC', 'ORCL', 'OXY', 'PAYX', 'PCAR', 'PEAK', 'PEP', 'PG', 'PGR', 'PH', 'PHG', 'PHM', 'PNR', 'PPG', 'PSA', 'PTC', 'PXD', 'RCI', 'RJF', 'ROK', 'ROL', 'ROST', 'RPM', 'RRX', 'RTX', 'RVTY', 'SAN', 'SCHW', 'SHEL', 'SHW', 'SNA', 'SO', 'SONY', 'SPGI', 'SPX', 'STZ', 'SWK', 'SWKS', 'SYK', 'SYY', 'TAP', 'TECH', 'TER', 'TGT', 'TJX', 'TM', 'TMO', 'TPL', 'TROW', 'TRV', 'TSN', 'TT', 'TTC', 'TXN', 'TXT', 'TYL', 'UDR', 'UNH', 'UNP', 'VLO', 'VMC', 'VTR', 'VTRS', 'WDC', 'WEC', 'WELL', 'WM', 'WMB', 'WMT', 'WRB', 'WSO', 'WST'])\n"
     ]
    }
   ],
   "source": [
    "#as we are trying to outperform the S&P 500, create a dataframe for reference\n",
    "sp500 = pd.read_csv('CAGR/SPX.csv')\n",
    "#set the CAGR data directory and some dictionaries which will be the CAGR dataframe value and Ticker key\n",
    "folderpath = \"CAGR\"\n",
    "stocks = {}\n",
    "bad_stocks = {}\n",
    "potential_stocks = {}\n",
    "#for some reason there is an issue with one of the NVR values converting. Must fix 1993 row manually.\n",
    "for filename in os.listdir(folderpath):\n",
    "    if filename.endswith(\".csv\"):\n",
    "        stock = pd.read_csv(os.path.join(folderpath, filename))\n",
    "        ticker = filename.split(\".\")[0]\n",
    "        stocks[ticker] = stock\n",
    "        if is_bad_stock(stock, sp500):\n",
    "            bad_stocks[ticker] = stock\n",
    "        else:\n",
    "            potential_stocks[ticker] = stock\n",
    "#bad stock tickers\n",
    "print(len(bad_stocks),'bad stocks',bad_stocks.keys())\n",
    "#potential stock tickers\n",
    "print(len(potential_stocks),'potential stocks',potential_stocks.keys())"
   ]
  },
  {
   "cell_type": "code",
   "execution_count": 10,
   "metadata": {},
   "outputs": [],
   "source": [
    "def find_greater_occurences(sp500, stock, yrscagr):\n",
    "    #Get the rows where yrscagr is not null\n",
    "    sp500_yrs = sp500[sp500[yrscagr].notna()]\n",
    "    stock_yrs = stock[stock[yrscagr].notna()]\n",
    "\n",
    "    # Find the common years between 'sp500' and 'stock'\n",
    "    common_years = set(sp500_yrs['Year']) & set(stock_yrs['Year'])\n",
    "\n",
    "    # Initialize a counter for the number of times 'sp500' has a greater value\n",
    "    sp500_greater = 0\n",
    "    stock_greater = 0\n",
    "\n",
    "    # Iterate over the common years and compare values in 'YourColumn'\n",
    "    for year in common_years:\n",
    "        sp500_year = sp500_yrs[sp500_yrs['Year'] == year]\n",
    "        stock_year = stock_yrs[stock_yrs['Year'] == year]\n",
    "\n",
    "        # Compare the values in 'YourColumn' for the current year\n",
    "        if (sp500_year[yrscagr].values > stock_year[yrscagr].values).all():\n",
    "            sp500_greater += 1\n",
    "        elif (stock_year[yrscagr].values > sp500_year[yrscagr].values).all():\n",
    "            stock_greater += 1\n",
    "    print(stock_greater, sp500_greater)\n",
    "    return(sp500_greater, stock_greater)\n"
   ]
  },
  {
   "cell_type": "code",
   "execution_count": 11,
   "metadata": {},
   "outputs": [],
   "source": [
    "#create a dataframe to hold the matchup results\n",
    "return_comparisons = pd.DataFrame(columns=['Ticker', '30YRWins', '30YRLosses', '25YRWins', '25YRLosses', '20YRWins', '20YRLosses', '15YRWins', '15YRLosses', '10YRWins', '10YRLosses', '5YRWins', '5YRLosses'])"
   ]
  },
  {
   "cell_type": "code",
   "execution_count": null,
   "metadata": {},
   "outputs": [],
   "source": [
    "#print out the 30YRCAGR for aapl and sp500 for all common years. Convert to a list and print out the list\n",
    "year_ranges = ['30YRCAGR', '25YRCAGR', '20YRCAGR', '15YRCAGR', '10YRCAGR', '5YRCAGR']\n",
    "#for every potential stock, find the number of times it beats the sp500 in each year range\n",
    "for stock in potential_stocks:\n",
    "    return_comparison = [stock]\n",
    "    for year_range in year_ranges:\n",
    "        sp500_greater, stock_greater = find_greater_occurences(sp500, potential_stocks[stock], year_range)\n",
    "        return_comparison.append(stock_greater)\n",
    "        return_comparison.append(sp500_greater)\n",
    "        #print(f'sp500 wins {sp500_greater} times and {stock} wins {stock_greater} times in {year_range}CAGR')\n",
    "    return_comparisons.loc[len(return_comparisons)] = return_comparison\n",
    "len(return_comparisons)"
   ]
  },
  {
   "cell_type": "code",
   "execution_count": 13,
   "metadata": {},
   "outputs": [],
   "source": [
    "return_comparisons.to_csv('return_comparisons.csv')"
   ]
  },
  {
   "cell_type": "code",
   "execution_count": 15,
   "metadata": {},
   "outputs": [
    {
     "name": "stdout",
     "output_type": "stream",
     "text": [
      "129 winners5YR ['AAPL' 'ABT' 'ADBE' 'ADI' 'ADM' 'ADP' 'ADSK' 'AFL' 'AMAT' 'AMGN' 'AON'\n",
      " 'AOS' 'APA' 'APD' 'BA' 'BALL' 'BBY' 'BDX' 'BF_B' 'BIO' 'BN' 'BRK_A' 'BRO'\n",
      " 'CAH' 'CHD' 'CI' 'CLX' 'CMCSA' 'COO' 'COST' 'CRH' 'CSL' 'CSX' 'CTAS' 'DE'\n",
      " 'DHR' 'DINO' 'DJI' 'DOV' 'EA' 'ECL' 'EFX' 'EOG' 'EQT' 'ETN' 'EXPD' 'FAST'\n",
      " 'FCNCA' 'FDX' 'FI' 'FICO' 'GD' 'GGG' 'GWW' 'HD' 'HEI' 'HON' 'HRL' 'HSY'\n",
      " 'HUM' 'IEX' 'INTC' 'ITW' 'J' 'JBHT' 'JKHY' 'JNJ' 'KLAC' 'KR' 'LEN' 'LHX'\n",
      " 'LOW' 'LRCX' 'MCD' 'MDT' 'MKC' 'MKL' 'MNST' 'MO' 'MSFT' 'NDSN' 'NDX'\n",
      " 'NKE' 'NOC' 'NSC' 'NUE' 'NVO' 'NVR' 'OMC' 'ORCL' 'PAYX' 'PCAR' 'PEP'\n",
      " 'PGR' 'PH' 'PHM' 'PNR' 'PPG' 'RCI' 'RJF' 'ROK' 'ROST' 'RPM' 'RRX' 'RTX'\n",
      " 'SCHW' 'SHW' 'SPGI' 'STZ' 'SWKS' 'SYK' 'SYY' 'TECH' 'TGT' 'TJX' 'TMO'\n",
      " 'TPL' 'TROW' 'TTC' 'TXN' 'UNH' 'UNP' 'VLO' 'VMC' 'WM' 'WMT' 'WRB' 'WSO'\n",
      " 'WST']\n"
     ]
    }
   ],
   "source": [
    "#get the stocks that have more wins than losses against the sp500 in every size CAGR window\n",
    "winners30YR = return_comparisons[return_comparisons['30YRWins'] > return_comparisons['30YRLosses']]\n",
    "winners25YR = winners30YR[winners30YR['25YRWins'] > winners30YR['25YRLosses']]\n",
    "winners20YR = winners25YR[winners25YR['20YRWins'] > winners25YR['20YRLosses']]\n",
    "winners15YR = winners20YR[winners20YR['15YRWins'] > winners20YR['15YRLosses']]\n",
    "winners10YR = winners15YR[winners15YR['10YRWins'] > winners15YR['10YRLosses']]\n",
    "super_winners = winners10YR[winners10YR['5YRWins'] > winners10YR['5YRLosses']]\n",
    "print(len(super_winners),'winners5YR',super_winners['Ticker'].values)"
   ]
  },
  {
   "cell_type": "code",
   "execution_count": 16,
   "metadata": {},
   "outputs": [],
   "source": [
    "super_winners.to_csv('super_winners.csv')"
   ]
  },
  {
   "cell_type": "code",
   "execution_count": 17,
   "metadata": {},
   "outputs": [
    {
     "name": "stdout",
     "output_type": "stream",
     "text": [
      "74 bad stocks dict_keys(['AEG', 'AEP', 'AIG', 'BAC', 'BAX', 'BCS', 'BEN', 'BK', 'BMY', 'BP', 'C', 'CAG', 'CINF', 'CL', 'CNA', 'CNP', 'CPB', 'CVS', 'D', 'DIS', 'DTE', 'DUK', 'ED', 'EIX', 'EMR', 'ERIC', 'ETR', 'EXC', 'FITB', 'GIS', 'GLW', 'GOLD', 'GSK', 'HAL', 'HBAN', 'HPQ', 'HST', 'HWM_P', 'IFF', 'IP', 'K', 'KEY', 'KMB', 'KO', 'LNT', 'LUV', 'MMM', 'MOS', 'MRK', 'MTB', 'NEM', 'NTRS', 'PCG', 'PEG', 'PFE', 'PNC', 'PPL', 'RF', 'SLB', 'STT', 'T', 'TEF', 'TEVA', 'TFC', 'TRP', 'UL', 'USB', 'VOD', 'VZ', 'WFC', 'WPP', 'WY', 'XEL', 'XOM'])\n",
      "215 potential stocks dict_keys(['AAPL', 'ABT', 'ADBE', 'ADI', 'ADM', 'ADP', 'ADSK', 'AEM', 'AFL', 'AJG', 'AMAT', 'AMD', 'AMGN', 'AON', 'AOS', 'APA', 'APD', 'ATO', 'AVY', 'AXP', 'BA', 'BALL', 'BAM', 'BBVA', 'BBY', 'BCE', 'BDX', 'BF_B', 'BHP', 'BIO', 'BKR', 'BN', 'BRK_A', 'BRO', 'BTI', 'CAH', 'CAT', 'CCEP', 'CCK', 'CCL', 'CDNS', 'CHD', 'CI', 'CLX', 'CMCSA', 'CMI', 'CMS', 'COO', 'COP', 'COST', 'CP', 'CRH', 'CSL', 'CSX', 'CTAS', 'CVX', 'DE', 'DHR', 'DINO', 'DJI', 'DOV', 'EA', 'ECL', 'EFX', 'ENB', 'EOG', 'EQT', 'ES', 'ETN', 'EXPD', 'F', 'FAST', 'FCNCA', 'FDX', 'FI', 'FICO', 'FMC', 'GD', 'GE', 'GEN', 'GFI', 'GGG', 'GPC', 'GWW', 'HD', 'HEI', 'HES', 'HMC', 'HON', 'HRL', 'HSY', 'HUBB', 'HUM', 'IBM', 'IEX', 'IMO', 'INTC', 'IPG', 'ITW', 'J', 'JBHT', 'JCI', 'JKHY', 'JNJ', 'JPM', 'KLAC', 'KR', 'L', 'LEN', 'LH', 'LHX', 'LLY', 'LMT', 'LOW', 'LRCX', 'LSCC', 'MAS', 'MCD', 'MCO', 'MDT', 'MGA', 'MGM', 'MKC', 'MKL', 'MMC', 'MNST', 'MO', 'MRO', 'MS', 'MSFT', 'MU', 'MUFG', 'NDSN', 'NDX', 'NEE', 'NI', 'NKE', 'NOC', 'NSC', 'NUE', 'NVO', 'NVR', 'OKE', 'OMC', 'ORCL', 'OXY', 'PAYX', 'PCAR', 'PEAK', 'PEP', 'PG', 'PGR', 'PH', 'PHG', 'PHM', 'PNR', 'PPG', 'PSA', 'PTC', 'PXD', 'RCI', 'RJF', 'ROK', 'ROL', 'ROST', 'RPM', 'RRX', 'RTX', 'RVTY', 'SAN', 'SCHW', 'SHEL', 'SHW', 'SNA', 'SO', 'SONY', 'SPGI', 'SPX', 'STZ', 'SWK', 'SWKS', 'SYK', 'SYY', 'TAP', 'TECH', 'TER', 'TGT', 'TJX', 'TM', 'TMO', 'TPL', 'TROW', 'TRV', 'TSN', 'TT', 'TTC', 'TXN', 'TXT', 'TYL', 'UDR', 'UNH', 'UNP', 'VLO', 'VMC', 'VTR', 'VTRS', 'WDC', 'WEC', 'WELL', 'WM', 'WMB', 'WMT', 'WRB', 'WSO', 'WST'])\n",
      "129 super winners dict_keys(['AAPL', 'ABT', 'ADBE', 'ADI', 'ADM', 'ADP', 'ADSK', 'AFL', 'AMAT', 'AMGN', 'AON', 'AOS', 'APA', 'APD', 'BA', 'BALL', 'BBY', 'BDX', 'BF_B', 'BIO', 'BN', 'BRK_A', 'BRO', 'CAH', 'CHD', 'CI', 'CLX', 'CMCSA', 'COO', 'COST', 'CRH', 'CSL', 'CSX', 'CTAS', 'DE', 'DHR', 'DINO', 'DJI', 'DOV', 'EA', 'ECL', 'EFX', 'EOG', 'EQT', 'ETN', 'EXPD', 'FAST', 'FCNCA', 'FDX', 'FI', 'FICO', 'GD', 'GGG', 'GWW', 'HD', 'HEI', 'HON', 'HRL', 'HSY', 'HUM', 'IEX', 'INTC', 'ITW', 'J', 'JBHT', 'JKHY', 'JNJ', 'KLAC', 'KR', 'LEN', 'LHX', 'LOW', 'LRCX', 'MCD', 'MDT', 'MKC', 'MKL', 'MNST', 'MO', 'MSFT', 'NDSN', 'NDX', 'NKE', 'NOC', 'NSC', 'NUE', 'NVO', 'NVR', 'OMC', 'ORCL', 'PAYX', 'PCAR', 'PEP', 'PGR', 'PH', 'PHM', 'PNR', 'PPG', 'RCI', 'RJF', 'ROK', 'ROST', 'RPM', 'RRX', 'RTX', 'SCHW', 'SHW', 'SPGI', 'STZ', 'SWKS', 'SYK', 'SYY', 'TECH', 'TGT', 'TJX', 'TMO', 'TPL', 'TROW', 'TTC', 'TXN', 'UNH', 'UNP', 'VLO', 'VMC', 'WM', 'WMT', 'WRB', 'WSO', 'WST'])\n"
     ]
    }
   ],
   "source": [
    "super_winners_stocks = {}\n",
    "for ticker in super_winners['Ticker'].values:\n",
    "    super_winners_stocks[ticker] = potential_stocks[ticker]\n",
    "print(len(bad_stocks),'bad stocks',bad_stocks.keys())\n",
    "print(len(potential_stocks),'potential stocks',potential_stocks.keys())\n",
    "print(len(super_winners_stocks),'super winners',super_winners_stocks.keys())"
   ]
  },
  {
   "cell_type": "code",
   "execution_count": 18,
   "metadata": {},
   "outputs": [],
   "source": [
    "median_cagrs = pd.DataFrame(columns=['Ticker', '30YR_median', '25YR_median', '20YR_median', '15YR_median', '10YR_median', '5YR_median'])"
   ]
  },
  {
   "cell_type": "code",
   "execution_count": 19,
   "metadata": {},
   "outputs": [],
   "source": [
    "#find the median CAGR for each year range for each stock\n",
    "for stock in super_winners_stocks:\n",
    "    median_cagr = [stock]\n",
    "    for year_range in year_ranges:\n",
    "        median_cagr.append(super_winners_stocks[stock][year_range].median())\n",
    "    median_cagrs.loc[len(median_cagrs)] = median_cagr\n",
    "#reorder the rows by 30YR_median\n",
    "median_cagrs = median_cagrs.sort_values(by=['30YR_median'], ascending=False)\n",
    "#median_cagrs.to_csv('median_cagrs.csv')"
   ]
  },
  {
   "cell_type": "code",
   "execution_count": 20,
   "metadata": {},
   "outputs": [],
   "source": [
    "#find the median CAGR for each year range for SPX and add it to the median_cagrs dataframe\n",
    "sp500_median_cagr = ['SPX']\n",
    "for year_range in year_ranges:\n",
    "    sp500_median_cagr.append(sp500[year_range].median())\n",
    "median_cagrs.loc[len(median_cagrs)] = sp500_median_cagr\n",
    "median_cagrs.to_csv('median_cagrs.csv')"
   ]
  }
 ],
 "metadata": {
  "kernelspec": {
   "display_name": "Python 3",
   "language": "python",
   "name": "python3"
  },
  "language_info": {
   "codemirror_mode": {
    "name": "ipython",
    "version": 3
   },
   "file_extension": ".py",
   "mimetype": "text/x-python",
   "name": "python",
   "nbconvert_exporter": "python",
   "pygments_lexer": "ipython3",
   "version": "3.11.2"
  },
  "orig_nbformat": 4
 },
 "nbformat": 4,
 "nbformat_minor": 2
}
