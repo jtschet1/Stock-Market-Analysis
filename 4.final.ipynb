{
 "cells": [
  {
   "cell_type": "code",
   "execution_count": 1,
   "metadata": {},
   "outputs": [],
   "source": [
    "import pandas as pd\n",
    "import yfinance as yf"
   ]
  },
  {
   "cell_type": "code",
   "execution_count": 2,
   "metadata": {},
   "outputs": [],
   "source": [
    "#read super_winners.csv\n",
    "super_winners = pd.read_csv('super_winners.csv')\n",
    "median_cagrs = pd.read_csv('median_cagrs.csv')\n",
    "industries = pd.read_csv('Companies Industries.csv')"
   ]
  },
  {
   "cell_type": "code",
   "execution_count": 3,
   "metadata": {},
   "outputs": [],
   "source": [
    "#reset all the indexes\n",
    "super_winners = super_winners.reset_index(drop=True)\n",
    "median_cagrs = median_cagrs.reset_index(drop=True)\n",
    "industries = industries.reset_index(drop=True)"
   ]
  },
  {
   "cell_type": "code",
   "execution_count": 4,
   "metadata": {},
   "outputs": [],
   "source": [
    "#order median_cagrs by 30YR_median\n",
    "median_cagrs = median_cagrs.sort_values(by=['30YR_median'], ascending=False)"
   ]
  },
  {
   "cell_type": "code",
   "execution_count": 5,
   "metadata": {},
   "outputs": [
    {
     "data": {
      "text/plain": [
       "85"
      ]
     },
     "execution_count": 5,
     "metadata": {},
     "output_type": "execute_result"
    }
   ],
   "source": [
    "#get all the super winners with at least 14 30YRWins\n",
    "oldWinners = super_winners[super_winners['30YRWins'] >= 14]\n",
    "len(oldWinners)"
   ]
  },
  {
   "cell_type": "code",
   "execution_count": 6,
   "metadata": {},
   "outputs": [
    {
     "data": {
      "text/plain": [
       "86"
      ]
     },
     "execution_count": 6,
     "metadata": {},
     "output_type": "execute_result"
    }
   ],
   "source": [
    "highCagrs = median_cagrs[median_cagrs['30YR_median'] >= 12]\n",
    "len(highCagrs)"
   ]
  },
  {
   "cell_type": "code",
   "execution_count": 7,
   "metadata": {},
   "outputs": [
    {
     "data": {
      "text/plain": [
       "47"
      ]
     },
     "execution_count": 7,
     "metadata": {},
     "output_type": "execute_result"
    }
   ],
   "source": [
    "#merge the two dataframes\n",
    "oldAndHigh = pd.merge(oldWinners, highCagrs, on='Ticker', how='inner')\n",
    "len(oldAndHigh)"
   ]
  },
  {
   "cell_type": "code",
   "execution_count": 8,
   "metadata": {},
   "outputs": [],
   "source": [
    "#order oldAndHigh by 30YR_median\n",
    "oldAndHigh = oldAndHigh.sort_values(by=['30YR_median'], ascending=False)\n",
    "oldAndHigh = oldAndHigh.reset_index(drop=True)\n",
    "#drop Unnamed: 0_x and Unnamed: 0_y\n",
    "oldAndHigh = oldAndHigh.drop(columns=['Unnamed: 0_x', 'Unnamed: 0_y'])"
   ]
  },
  {
   "cell_type": "code",
   "execution_count": 9,
   "metadata": {},
   "outputs": [],
   "source": [
    "#add industry column to oldAndHigh\n",
    "oldAndHigh = pd.merge(oldAndHigh, industries, on='Ticker', how='inner')"
   ]
  },
  {
   "cell_type": "code",
   "execution_count": 10,
   "metadata": {},
   "outputs": [],
   "source": [
    "oldAndHigh.to_csv('oldAndHigh.csv', index=False)"
   ]
  },
  {
   "cell_type": "code",
   "execution_count": 11,
   "metadata": {},
   "outputs": [],
   "source": [
    "def get_company_info(ticker_symbol):\n",
    "    try:\n",
    "        ticker = yf.Ticker(ticker_symbol)\n",
    "        company_info = ticker.info\n",
    "        company_name = company_info['longName']\n",
    "        sector = company_info.get('sector', 'N/A')\n",
    "        industry = company_info.get('industry', 'N/A')\n",
    "        print('Name:', company_name, 'Sector:', sector, 'Industry:', industry)\n",
    "        return company_name, sector, industry\n",
    "    except Exception as e:\n",
    "        print('Error:', str(e))\n",
    "        return None, None, None"
   ]
  },
  {
   "cell_type": "code",
   "execution_count": null,
   "metadata": {},
   "outputs": [],
   "source": [
    "#create an empty dataframe with the columns Ticker, Company, Sector, and Country\n",
    "companies = pd.DataFrame(columns=['Ticker', 'Company', 'Sector', 'Industry', 'Country'])\n",
    "for i in range(len(oldAndHigh)):\n",
    "    ticker = oldAndHigh['Ticker'][i]\n",
    "    name, sector, industry = get_company_info(ticker)\n",
    "    country = oldAndHigh['Country'][i]\n",
    "    companies.loc[i] = [ticker, name, sector, industry, country]\n",
    "companies.to_csv('companies.csv', index=False)"
   ]
  }
 ],
 "metadata": {
  "kernelspec": {
   "display_name": "Python 3",
   "language": "python",
   "name": "python3"
  },
  "language_info": {
   "codemirror_mode": {
    "name": "ipython",
    "version": 3
   },
   "file_extension": ".py",
   "mimetype": "text/x-python",
   "name": "python",
   "nbconvert_exporter": "python",
   "pygments_lexer": "ipython3",
   "version": "3.11.2"
  },
  "orig_nbformat": 4
 },
 "nbformat": 4,
 "nbformat_minor": 2
}
