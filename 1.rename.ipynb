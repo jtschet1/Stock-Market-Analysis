{
 "cells": [
  {
   "cell_type": "code",
   "execution_count": null,
   "metadata": {},
   "outputs": [],
   "source": [
    "import os"
   ]
  },
  {
   "cell_type": "code",
   "execution_count": null,
   "metadata": {},
   "outputs": [],
   "source": [
    "folder_path = 'Historical_Data'\n",
    "\n",
    "modifiedfiles = 0\n",
    "for filename in os.listdir(folder_path):\n",
    "    if filename.endswith('.csv') and ' ' in filename:\n",
    "        stock_symbol = filename.split(' ')[0]\n",
    "        new_filename = os.path.join(folder_path, stock_symbol + '.csv')\n",
    "        os.rename(os.path.join(folder_path, filename), new_filename)\n",
    "        modifiedfiles += 1\n",
    "print(f'{modifiedfiles} files renamed.')"
   ]
  }
 ],
 "metadata": {
  "kernelspec": {
   "display_name": "Python 3",
   "language": "python",
   "name": "python3"
  },
  "language_info": {
   "codemirror_mode": {
    "name": "ipython",
    "version": 3
   },
   "file_extension": ".py",
   "mimetype": "text/x-python",
   "name": "python",
   "nbconvert_exporter": "python",
   "pygments_lexer": "ipython3",
   "version": "3.11.2"
  },
  "orig_nbformat": 4
 },
 "nbformat": 4,
 "nbformat_minor": 2
}
